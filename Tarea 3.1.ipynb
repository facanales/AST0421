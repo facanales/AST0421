{
 "cells": [
  {
   "cell_type": "markdown",
   "metadata": {},
   "source": [
    "  **1.- Describiendo la misión Gaia**\n",
    "\n",
    "---\n",
    "\n",
    "Gaia (Global Astrometric Interferometer for Astrophysics) es una misión espacial de la ESA (Agencia Espacial Europea) lanzada el 19 de diciembre de 2013 y puesta en operación el 25 de Julio de 2014. La misión Gaia tiene como objetivo recopilar datos para entender el origen y evolución de la Via Lactea. Los datos y observables que se recopilaran son sobre observaciones multicolor, velocidades radiales, movimientos propios, posiciones y distancias de mil millones de estrellas, con los cuales se hará un mapa 3D de la Via Lactea, el mapa estelar mas completo y preciso hasta  ahora.\n",
    "\n",
    "El primer lazamiento de datos (Gaia-DR1) fue el 14 de septiembre de 2016 el cual contiene posiciones y magnitudes en G de estrellas.\n",
    "\n",
    "Los demáslanzamientos de datos de Gaia serán a mediados de los años 2017, 2018, 2019 y 2022.\n",
    "\n",
    "Fuentes:\n",
    "> *http://gaiaverse.eu/la-mision-gaia/*\n",
    "\n",
    "> *http://gaiavideo.ub.edu/*\n",
    "\n",
    "> *https://es.wikipedia.org/wiki/Gaia_(sonda_espacial)*\n",
    "\n",
    "> *http://sci.esa.int/gaia/*"
   ]
  },
  {
   "cell_type": "markdown",
   "metadata": {},
   "source": [
    "  **2.- Describiendo el catálogo RAVE-ON**\n",
    "\n",
    "---\n",
    "\n",
    "*RAVE* (RAdial Velocity Experiment) es un surveys espectroscópico en el cual contiene datos como temperatura efectiva, gravedad superficial y abundancia química, el cual se complementa con los catálogos TGAS y APOGEE, los cuales nos permiten realizar un análisis químico-dinámico de la Vía Láctea.\n",
    "\n",
    "Fuentes:\n",
    "> *http://arxiv.org/pdf/1609.02914v1.pdf*\n",
    "\n",
    "> *https://ui.adsabs.harvard.edu/#abs/2016arXiv160902914C/abstract*"
   ]
  },
  {
   "cell_type": "markdown",
   "metadata": {},
   "source": [
    "  **3.- Preparando los catálogos**\n",
    "\n",
    "---\n",
    "\n",
    "Primero se descarga los archivos del módulo, depués se instala el fork del módulo *gaia_tools* con el comando *python setup.py install* en el mismo directorio donde se descargaron los archivos, luego se instala el módulo *fitsio* con el comando *pip install fitsio* y finalmente se define por consola la variable de ambiente GAIA_TOOL_DATA con el comando *export GAIA_TOOLS_DATA = /home/Felipe/Descargas* para descargar los catálogos en ese mismo directorio.\n",
    "\n",
    "Fuentes:\n",
    "> *https://github.com/andres-jordan/gaia_tools*\n",
    "\n",
    "> *https://github.com/esheldon/fitsio*"
   ]
  },
  {
   "cell_type": "markdown",
   "metadata": {},
   "source": [
    "  **4.- Descargando los catálogos TGAS y RAVE-ON**\n",
    "\n",
    "---\n",
    "\n",
    "Se hace correr una vez el siguiente código para descargar los catálogos."
   ]
  },
  {
   "cell_type": "code",
   "execution_count": 1,
   "metadata": {
    "collapsed": false
   },
   "outputs": [],
   "source": [
    "import gaia_tools.load as gload\n",
    "\n",
    "tgas_cat = gload.tgas()\n",
    "raveon_cat = gload.raveon()"
   ]
  },
  {
   "cell_type": "markdown",
   "metadata": {},
   "source": [
    "Fuentes:\n",
    "> *https://github.com/andres-jordan/gaia_tools*"
   ]
  },
  {
   "cell_type": "markdown",
   "metadata": {},
   "source": [
    "  **5.- Investigando la estructura de los catálogos**\n",
    "\n",
    "---\n",
    "\n",
    "Se investiga la estructura de los catálogos. Primero tenemos TGAS y luego RAVE-ON."
   ]
  },
  {
   "cell_type": "code",
   "execution_count": 2,
   "metadata": {
    "collapsed": false
   },
   "outputs": [
    {
     "name": "stdout",
     "output_type": "stream",
     "text": [
      "Filename: TgasSource_000-000-000.fits\n",
      "No.    Name         Type      Cards   Dimensions   Format\n",
      "0    PRIMARY     PrimaryHDU      16   (37650,)     uint8   \n",
      "1    TgasSource_000-000-000.fits  BinTableHDU    218   134865R x 59C   [J, 11A, K, K, K, D, D, D, D, D, D, D, D, D, D, D, E, E, E, E, E, E, E, E, E, E, J, J, J, J, J, J, E, D, D, L, E, E, E, J, I, L, E, E, E, E, E, E, E, E, J, D, D, D, 13A, D, D, D, D]   \n"
     ]
    },
    {
     "data": {
      "text/plain": [
       "XTENSION= 'BINTABLE'           / binary table extension                         \n",
       "BITPIX  =                    8 / 8-bit bytes                                    \n",
       "NAXIS   =                    2 / 2-dimensional table                            \n",
       "NAXIS1  =                  336 / width of table in bytes                        \n",
       "NAXIS2  =               134865 / number of rows in table                        \n",
       "PCOUNT  =                    0 / size of special data area                      \n",
       "GCOUNT  =                    1 / one data group                                 \n",
       "TFIELDS =                   59 / number of columns                              \n",
       "EXTNAME = 'TgasSource_000-000-000.fits' / table name                            \n",
       "TTYPE1  = 'hip     '           / label for column 1                             \n",
       "TFORM1  = 'J       '           / format for column 1                            \n",
       "TNULL1  =          -2147483648 / blank value for column 1                       \n",
       "TUCD1   = 'meta.id.cross'                                                       \n",
       "TTYPE2  = 'tycho2_id'          / label for column 2                             \n",
       "TFORM2  = '11A     '           / format for column 2                            \n",
       "TUCD2   = 'meta.id.cross'                                                       \n",
       "TTYPE3  = 'solution_id'        / label for column 3                             \n",
       "TFORM3  = 'K       '           / format for column 3                            \n",
       "TUCD3   = 'meta.id;meta.version'                                                \n",
       "TTYPE4  = 'source_id'          / label for column 4                             \n",
       "TFORM4  = 'K       '           / format for column 4                            \n",
       "TUCD4   = 'meta.id;meta.main'                                                   \n",
       "TTYPE5  = 'random_index'       / label for column 5                             \n",
       "TFORM5  = 'K       '           / format for column 5                            \n",
       "TUCD5   = 'meta.code'                                                           \n",
       "TTYPE6  = 'ref_epoch'          / label for column 6                             \n",
       "TFORM6  = 'D       '           / format for column 6                            \n",
       "TUNIT6  = 'Time[Julian Years]' / units for column 6                             \n",
       "TUCD6   = 'meta.ref;time.epoch'                                                 \n",
       "TTYPE7  = 'ra      '           / label for column 7                             \n",
       "TFORM7  = 'D       '           / format for column 7                            \n",
       "TUNIT7  = 'Angle[deg]'         / units for column 7                             \n",
       "TUCD7   = 'pos.eq.ra;meta.main'                                                 \n",
       "TTYPE8  = 'ra_error'           / label for column 8                             \n",
       "TFORM8  = 'D       '           / format for column 8                            \n",
       "TUNIT8  = 'Angle[mas]'         / units for column 8                             \n",
       "TUCD8   = 'stat.error;pos.eq.ra'                                                \n",
       "TTYPE9  = 'dec     '           / label for column 9                             \n",
       "TFORM9  = 'D       '           / format for column 9                            \n",
       "TUNIT9  = 'Angle[deg]'         / units for column 9                             \n",
       "TUCD9   = 'pos.eq.dec;meta.main'                                                \n",
       "TTYPE10 = 'dec_error'          / label for column 10                            \n",
       "TFORM10 = 'D       '           / format for column 10                           \n",
       "TUNIT10 = 'Angle[mas]'         / units for column 10                            \n",
       "TUCD10  = 'stat.error;pos.eq.dec'                                               \n",
       "TTYPE11 = 'parallax'           / label for column 11                            \n",
       "TFORM11 = 'D       '           / format for column 11                           \n",
       "TUNIT11 = 'Angle[mas]'         / units for column 11                            \n",
       "TUCD11  = 'pos.parallax'                                                        \n",
       "TTYPE12 = 'parallax_error'     / label for column 12                            \n",
       "TFORM12 = 'D       '           / format for column 12                           \n",
       "TUNIT12 = 'Angle[mas]'         / units for column 12                            \n",
       "TUCD12  = 'stat.error;pos.parallax'                                             \n",
       "TTYPE13 = 'pmra    '           / label for column 13                            \n",
       "TFORM13 = 'D       '           / format for column 13                           \n",
       "TUNIT13 = 'Angular Velocity[mas/year]' / units for column 13                    \n",
       "TUCD13  = 'pos.pm;pos.eq.ra'                                                    \n",
       "TTYPE14 = 'pmra_error'         / label for column 14                            \n",
       "TFORM14 = 'D       '           / format for column 14                           \n",
       "TUNIT14 = 'Angular Velocity[mas/year]' / units for column 14                    \n",
       "TUCD14  = 'stat.error;pos.pm;pos.eq.ra'                                         \n",
       "TTYPE15 = 'pmdec   '           / label for column 15                            \n",
       "TFORM15 = 'D       '           / format for column 15                           \n",
       "TUNIT15 = 'Angular Velocity[mas/year]' / units for column 15                    \n",
       "TUCD15  = 'pos.pm;pos.eq.dec'                                                   \n",
       "TTYPE16 = 'pmdec_error'        / label for column 16                            \n",
       "TFORM16 = 'D       '           / format for column 16                           \n",
       "TUNIT16 = 'Angular Velocity[mas/year]' / units for column 16                    \n",
       "TUCD16  = 'stat.error;pos.pm;pos.eq.dec'                                        \n",
       "TTYPE17 = 'ra_dec_corr'        / label for column 17                            \n",
       "TFORM17 = 'E       '           / format for column 17                           \n",
       "TUNIT17 = 'Dimensionless[see description]' / units for column 17                \n",
       "TUCD17  = 'stat.correlation'                                                    \n",
       "TTYPE18 = 'ra_parallax_corr'   / label for column 18                            \n",
       "TFORM18 = 'E       '           / format for column 18                           \n",
       "TUNIT18 = 'Dimensionless[see description]' / units for column 18                \n",
       "TUCD18  = 'stat.correlation'                                                    \n",
       "TTYPE19 = 'ra_pmra_corr'       / label for column 19                            \n",
       "TFORM19 = 'E       '           / format for column 19                           \n",
       "TUNIT19 = 'Dimensionless[see description]' / units for column 19                \n",
       "TUCD19  = 'stat.correlation'                                                    \n",
       "TTYPE20 = 'ra_pmdec_corr'      / label for column 20                            \n",
       "TFORM20 = 'E       '           / format for column 20                           \n",
       "TUNIT20 = 'Dimensionless[see description]' / units for column 20                \n",
       "TUCD20  = 'stat.correlation'                                                    \n",
       "TTYPE21 = 'dec_parallax_corr'  / label for column 21                            \n",
       "TFORM21 = 'E       '           / format for column 21                           \n",
       "TUNIT21 = 'Dimensionless[see description]' / units for column 21                \n",
       "TUCD21  = 'stat.correlation'                                                    \n",
       "TTYPE22 = 'dec_pmra_corr'      / label for column 22                            \n",
       "TFORM22 = 'E       '           / format for column 22                           \n",
       "TUNIT22 = 'Dimensionless[see description]' / units for column 22                \n",
       "TUCD22  = 'stat.correlation'                                                    \n",
       "TTYPE23 = 'dec_pmdec_corr'     / label for column 23                            \n",
       "TFORM23 = 'E       '           / format for column 23                           \n",
       "TUNIT23 = 'Dimensionless[see description]' / units for column 23                \n",
       "TUCD23  = 'stat.correlation'                                                    \n",
       "TTYPE24 = 'parallax_pmra_corr' / label for column 24                            \n",
       "TFORM24 = 'E       '           / format for column 24                           \n",
       "TUNIT24 = 'Dimensionless[see description]' / units for column 24                \n",
       "TUCD24  = 'stat.correlation'                                                    \n",
       "TTYPE25 = 'parallax_pmdec_corr' / label for column 25                           \n",
       "TFORM25 = 'E       '           / format for column 25                           \n",
       "TUNIT25 = 'Dimensionless[see description]' / units for column 25                \n",
       "TUCD25  = 'stat.correlation'                                                    \n",
       "TTYPE26 = 'pmra_pmdec_corr'    / label for column 26                            \n",
       "TFORM26 = 'E       '           / format for column 26                           \n",
       "TUNIT26 = 'Dimensionless[see description]' / units for column 26                \n",
       "TUCD26  = 'stat.correlation'                                                    \n",
       "TTYPE27 = 'astrometric_n_obs_al' / label for column 27                          \n",
       "TFORM27 = 'J       '           / format for column 27                           \n",
       "TUCD27  = 'meta.number'                                                         \n",
       "TTYPE28 = 'astrometric_n_obs_ac' / label for column 28                          \n",
       "TFORM28 = 'J       '           / format for column 28                           \n",
       "TUCD28  = 'meta.number'                                                         \n",
       "TTYPE29 = 'astrometric_n_good_obs_al' / label for column 29                     \n",
       "TFORM29 = 'J       '           / format for column 29                           \n",
       "TUCD29  = 'meta.number'                                                         \n",
       "TTYPE30 = 'astrometric_n_good_obs_ac' / label for column 30                     \n",
       "TFORM30 = 'J       '           / format for column 30                           \n",
       "TUCD30  = 'meta.number'                                                         \n",
       "TTYPE31 = 'astrometric_n_bad_obs_al' / label for column 31                      \n",
       "TFORM31 = 'J       '           / format for column 31                           \n",
       "TUCD31  = 'meta.number'                                                         \n",
       "TTYPE32 = 'astrometric_n_bad_obs_ac' / label for column 32                      \n",
       "TFORM32 = 'J       '           / format for column 32                           \n",
       "TUCD32  = 'meta.number'                                                         \n",
       "TTYPE33 = 'astrometric_delta_q' / label for column 33                           \n",
       "TFORM33 = 'E       '           / format for column 33                           \n",
       "TUCD33  = 'stat.value'                                                          \n",
       "TTYPE34 = 'astrometric_excess_noise' / label for column 34                      \n",
       "TFORM34 = 'D       '           / format for column 34                           \n",
       "TUNIT34 = 'Angle[mas]'         / units for column 34                            \n",
       "TUCD34  = 'stat.value'                                                          \n",
       "TTYPE35 = 'astrometric_excess_noise_sig' / label for column 35                  \n",
       "TFORM35 = 'D       '           / format for column 35                           \n",
       "TUCD35  = 'stat.value'                                                          \n",
       "TTYPE36 = 'astrometric_primary_flag' / label for column 36                      \n",
       "TFORM36 = 'L       '           / format for column 36                           \n",
       "TUCD36  = 'meta.code'                                                           \n",
       "TTYPE37 = 'astrometric_relegation_factor' / label for column 37                 \n",
       "TFORM37 = 'E       '           / format for column 37                           \n",
       "TUCD37  = 'arith.factor'                                                        \n",
       "TTYPE38 = 'astrometric_weight_al' / label for column 38                         \n",
       "TFORM38 = 'E       '           / format for column 38                           \n",
       "TUNIT38 = 'Angle[mas^-2]'      / units for column 38                            \n",
       "TUCD38  = 'stat.weight;stat.mean'                                               \n",
       "TTYPE39 = 'astrometric_weight_ac' / label for column 39                         \n",
       "TFORM39 = 'E       '           / format for column 39                           \n",
       "TUNIT39 = 'Angle[mas^-2]'      / units for column 39                            \n",
       "TUCD39  = 'stat.weight;stat.mean'                                               \n",
       "TTYPE40 = 'astrometric_priors_used' / label for column 40                       \n",
       "TFORM40 = 'J       '           / format for column 40                           \n",
       "TTYPE41 = 'matched_observations' / label for column 41                          \n",
       "TFORM41 = 'I       '           / format for column 41                           \n",
       "TUCD41  = 'meta.number'                                                         \n",
       "TTYPE42 = 'duplicated_source'  / label for column 42                            \n",
       "TFORM42 = 'L       '           / format for column 42                           \n",
       "TTYPE43 = 'scan_direction_strength_k1' / label for column 43                    \n",
       "TFORM43 = 'E       '           / format for column 43                           \n",
       "TTYPE44 = 'scan_direction_strength_k2' / label for column 44                    \n",
       "TFORM44 = 'E       '           / format for column 44                           \n",
       "TTYPE45 = 'scan_direction_strength_k3' / label for column 45                    \n",
       "TFORM45 = 'E       '           / format for column 45                           \n",
       "TTYPE46 = 'scan_direction_strength_k4' / label for column 46                    \n",
       "TFORM46 = 'E       '           / format for column 46                           \n",
       "TTYPE47 = 'scan_direction_mean_k1' / label for column 47                        \n",
       "TFORM47 = 'E       '           / format for column 47                           \n",
       "TUNIT47 = 'Angle[deg]'         / units for column 47                            \n",
       "TTYPE48 = 'scan_direction_mean_k2' / label for column 48                        \n",
       "TFORM48 = 'E       '           / format for column 48                           \n",
       "TUNIT48 = 'Angle[deg]'         / units for column 48                            \n",
       "TTYPE49 = 'scan_direction_mean_k3' / label for column 49                        \n",
       "TFORM49 = 'E       '           / format for column 49                           \n",
       "TUNIT49 = 'Angle[deg]'         / units for column 49                            \n",
       "TTYPE50 = 'scan_direction_mean_k4' / label for column 50                        \n",
       "TFORM50 = 'E       '           / format for column 50                           \n",
       "TUNIT50 = 'Angle[deg]'         / units for column 50                            \n",
       "TTYPE51 = 'phot_g_n_obs'       / label for column 51                            \n",
       "TFORM51 = 'J       '           / format for column 51                           \n",
       "TUCD51  = 'meta.number'                                                         \n",
       "TTYPE52 = 'phot_g_mean_flux'   / label for column 52                            \n",
       "TFORM52 = 'D       '           / format for column 52                           \n",
       "TUNIT52 = 'Flux[e-/s]'         / units for column 52                            \n",
       "TCOMM52 = 'Mean flux in the G-band.'                                            \n",
       "TUCD52  = 'phot.flux;stat.mean;em.opt'                                          \n",
       "TTYPE53 = 'phot_g_mean_flux_error' / label for column 53                        \n",
       "TFORM53 = 'D       '           / format for column 53                           \n",
       "TUNIT53 = 'Flux[e-/s]'         / units for column 53                            \n",
       "TCOMM53 = 'Error on the mean flux in the G-band.'                               \n",
       "TUCD53  = 'stat.error;phot.flux;stat.mean;em.opt'                               \n",
       "TTYPE54 = 'phot_g_mean_mag'    / label for column 54                            \n",
       "TFORM54 = 'D       '           / format for column 54                           \n",
       "TUNIT54 = 'Magnitude[mag]'     / units for column 54                            \n",
       "TUCD54  = 'phot.mag;stat.mean;em.opt'                                           \n",
       "TTYPE55 = 'phot_variable_flag' / label for column 55                            \n",
       "TFORM55 = '13A     '           / format for column 55                           \n",
       "TUNIT55 = 'Dimensionless[see description]' / units for column 55                \n",
       "TUCD55  = 'meta.code;src.var'                                                   \n",
       "TTYPE56 = 'l       '           / label for column 56                            \n",
       "TFORM56 = 'D       '           / format for column 56                           \n",
       "TUNIT56 = 'Angle[deg]'         / units for column 56                            \n",
       "TUCD56  = 'pos.galactic.lon'                                                    \n",
       "TTYPE57 = 'b       '           / label for column 57                            \n",
       "TFORM57 = 'D       '           / format for column 57                           \n",
       "TUNIT57 = 'Angle[deg]'         / units for column 57                            \n",
       "TUCD57  = 'pos.galactic.lat'                                                    \n",
       "TTYPE58 = 'ecl_lon '           / label for column 58                            \n",
       "TFORM58 = 'D       '           / format for column 58                           \n",
       "TUNIT58 = 'Angle[deg]'         / units for column 58                            \n",
       "TUCD58  = 'pos.ecliptic.lon'                                                    \n",
       "TTYPE59 = 'ecl_lat '           / label for column 59                            \n",
       "TFORM59 = 'D       '           / format for column 59                           \n",
       "TUNIT59 = 'Angle[deg]'         / units for column 59                            \n",
       "TUCD59  = 'pos.ecliptic.lat'                                                    \n",
       "DATE-HDU= '2016-09-08T17:56:11' / Date of HDU creation (UTC)                    \n",
       "STILVERS= '3.1-1   '           / Version of STIL software                       \n",
       "STILCLAS= 'uk.ac.starlink.votable.FitsPlusTableWriter' / Author class in STIL so"
      ]
     },
     "execution_count": 2,
     "metadata": {},
     "output_type": "execute_result"
    }
   ],
   "source": [
    "from astropy.io import fits\n",
    "\n",
    "hdulist1 = fits.open('TgasSource_000-000-000.fits')\n",
    "hdulist1.info()\n",
    "hdulist1[1].header"
   ]
  },
  {
   "cell_type": "code",
   "execution_count": 3,
   "metadata": {
    "collapsed": true
   },
   "outputs": [],
   "source": [
    "hdulist1.close()"
   ]
  },
  {
   "cell_type": "markdown",
   "metadata": {},
   "source": [
    "Los datos del catálogo *TGAS* contienen velocidades angulares y distancias. Las mediciones que nos serán de utilidad en esta tarea serán:\n",
    "\n",
    "- Ángulo de Paralaje (parallax)\n",
    "\n",
    "- Error en el Ángulo de Paralaje (parallax_error)\n",
    "\n",
    "- Velocidad Ascensión Recta (pmra)\n",
    "\n",
    "- Velocidad Declinación (pmdec)"
   ]
  },
  {
   "cell_type": "code",
   "execution_count": 4,
   "metadata": {
    "collapsed": false
   },
   "outputs": [
    {
     "name": "stdout",
     "output_type": "stream",
     "text": [
      "Filename: RAVE-on-v1.0.fits\n",
      "No.    Name         Type      Cards   Dimensions   Format\n",
      "0    PRIMARY     PrimaryHDU       4   ()              \n",
      "1                BinTableHDU    124   520701R x 58C   [31A, 16A, D, D, D, D, D, D, D, D, D, D, D, D, D, D, 4A, 1A, 1A, 1A, 1A, 1A, 1A, 1A, 1A, 1A, 1A, 1A, 1A, 1A, 1A, 1A, 1A, 1A, 1A, 1A, 1A, D, D, D, D, D, D, D, D, D, D, D, D, D, D, D, D, D, D, D, D, L]   \n"
     ]
    },
    {
     "data": {
      "text/plain": [
       "XTENSION= 'BINTABLE'           / binary table extension                         \n",
       "BITPIX  =                    8 / array data type                                \n",
       "NAXIS   =                    2 / number of array dimensions                     \n",
       "NAXIS1  =                  344 / length of dimension 1                          \n",
       "NAXIS2  =               520701 / length of dimension 2                          \n",
       "PCOUNT  =                    0 / number of group parameters                     \n",
       "GCOUNT  =                    1 / number of groups                               \n",
       "TFIELDS =                   58 / number of table fields                         \n",
       "TTYPE1  = 'RAVE_OBS_ID'                                                         \n",
       "TFORM1  = '31A     '                                                            \n",
       "TTYPE2  = 'RAVEID  '                                                            \n",
       "TFORM2  = '16A     '                                                            \n",
       "TTYPE3  = 'RA      '                                                            \n",
       "TFORM3  = 'D       '                                                            \n",
       "TTYPE4  = 'DEC     '                                                            \n",
       "TFORM4  = 'D       '                                                            \n",
       "TTYPE5  = 'HRV     '                                                            \n",
       "TFORM5  = 'D       '                                                            \n",
       "TTYPE6  = 'eHRV    '                                                            \n",
       "TFORM6  = 'D       '                                                            \n",
       "TTYPE7  = 'StdDev_HRV'                                                          \n",
       "TFORM7  = 'D       '                                                            \n",
       "TTYPE8  = 'MAD_HRV '                                                            \n",
       "TFORM8  = 'D       '                                                            \n",
       "TTYPE9  = 'CorrelationCoeff'                                                    \n",
       "TFORM9  = 'D       '                                                            \n",
       "TTYPE10 = 'PeakHeight'                                                          \n",
       "TFORM10 = 'D       '                                                            \n",
       "TTYPE11 = 'PeakWidth'                                                           \n",
       "TFORM11 = 'D       '                                                            \n",
       "TTYPE12 = 'CorrectionRV'                                                        \n",
       "TFORM12 = 'D       '                                                            \n",
       "TTYPE13 = 'SkyRV   '                                                            \n",
       "TFORM13 = 'D       '                                                            \n",
       "TTYPE14 = 'eSkyRV  '                                                            \n",
       "TFORM14 = 'D       '                                                            \n",
       "TTYPE15 = 'SkyCorrelationCoeff'                                                 \n",
       "TFORM15 = 'D       '                                                            \n",
       "TTYPE16 = 'Vrot_SPARV'                                                          \n",
       "TFORM16 = 'D       '                                                            \n",
       "TTYPE17 = 'ZeroPointFLAG'                                                       \n",
       "TFORM17 = '4A      '                                                            \n",
       "TTYPE18 = 'c1      '                                                            \n",
       "TFORM18 = '1A      '                                                            \n",
       "TTYPE19 = 'c2      '                                                            \n",
       "TFORM19 = '1A      '                                                            \n",
       "TTYPE20 = 'c3      '                                                            \n",
       "TFORM20 = '1A      '                                                            \n",
       "TTYPE21 = 'c4      '                                                            \n",
       "TFORM21 = '1A      '                                                            \n",
       "TTYPE22 = 'c5      '                                                            \n",
       "TFORM22 = '1A      '                                                            \n",
       "TTYPE23 = 'c6      '                                                            \n",
       "TFORM23 = '1A      '                                                            \n",
       "TTYPE24 = 'c7      '                                                            \n",
       "TFORM24 = '1A      '                                                            \n",
       "TTYPE25 = 'c8      '                                                            \n",
       "TFORM25 = '1A      '                                                            \n",
       "TTYPE26 = 'c9      '                                                            \n",
       "TFORM26 = '1A      '                                                            \n",
       "TTYPE27 = 'c10     '                                                            \n",
       "TFORM27 = '1A      '                                                            \n",
       "TTYPE28 = 'c11     '                                                            \n",
       "TFORM28 = '1A      '                                                            \n",
       "TTYPE29 = 'c12     '                                                            \n",
       "TFORM29 = '1A      '                                                            \n",
       "TTYPE30 = 'c13     '                                                            \n",
       "TFORM30 = '1A      '                                                            \n",
       "TTYPE31 = 'c14     '                                                            \n",
       "TFORM31 = '1A      '                                                            \n",
       "TTYPE32 = 'c15     '                                                            \n",
       "TFORM32 = '1A      '                                                            \n",
       "TTYPE33 = 'c16     '                                                            \n",
       "TFORM33 = '1A      '                                                            \n",
       "TTYPE34 = 'c17     '                                                            \n",
       "TFORM34 = '1A      '                                                            \n",
       "TTYPE35 = 'c18     '                                                            \n",
       "TFORM35 = '1A      '                                                            \n",
       "TTYPE36 = 'c19     '                                                            \n",
       "TFORM36 = '1A      '                                                            \n",
       "TTYPE37 = 'c20     '                                                            \n",
       "TFORM37 = '1A      '                                                            \n",
       "TTYPE38 = 'TEFF    '                                                            \n",
       "TFORM38 = 'D       '                                                            \n",
       "TTYPE39 = 'LOGG    '                                                            \n",
       "TFORM39 = 'D       '                                                            \n",
       "TTYPE40 = 'FE_H    '                                                            \n",
       "TFORM40 = 'D       '                                                            \n",
       "TTYPE41 = 'O_H     '                                                            \n",
       "TFORM41 = 'D       '                                                            \n",
       "TTYPE42 = 'MG_H    '                                                            \n",
       "TFORM42 = 'D       '                                                            \n",
       "TTYPE43 = 'AL_H    '                                                            \n",
       "TFORM43 = 'D       '                                                            \n",
       "TTYPE44 = 'SI_H    '                                                            \n",
       "TFORM44 = 'D       '                                                            \n",
       "TTYPE45 = 'CA_H    '                                                            \n",
       "TFORM45 = 'D       '                                                            \n",
       "TTYPE46 = 'NI_H    '                                                            \n",
       "TFORM46 = 'D       '                                                            \n",
       "TTYPE47 = 'E_TEFF  '                                                            \n",
       "TFORM47 = 'D       '                                                            \n",
       "TTYPE48 = 'E_LOGG  '                                                            \n",
       "TFORM48 = 'D       '                                                            \n",
       "TTYPE49 = 'E_FE_H  '                                                            \n",
       "TFORM49 = 'D       '                                                            \n",
       "TTYPE50 = 'E_O_H   '                                                            \n",
       "TFORM50 = 'D       '                                                            \n",
       "TTYPE51 = 'E_MG_H  '                                                            \n",
       "TFORM51 = 'D       '                                                            \n",
       "TTYPE52 = 'E_AL_H  '                                                            \n",
       "TFORM52 = 'D       '                                                            \n",
       "TTYPE53 = 'E_SI_H  '                                                            \n",
       "TFORM53 = 'D       '                                                            \n",
       "TTYPE54 = 'E_CA_H  '                                                            \n",
       "TFORM54 = 'D       '                                                            \n",
       "TTYPE55 = 'E_NI_H  '                                                            \n",
       "TFORM55 = 'D       '                                                            \n",
       "TTYPE56 = 'SNR     '                                                            \n",
       "TFORM56 = 'D       '                                                            \n",
       "TTYPE57 = 'R_CHI_SQ'                                                            \n",
       "TFORM57 = 'D       '                                                            \n",
       "TTYPE58 = 'QC      '                                                            \n",
       "TFORM58 = 'L       '                                                            "
      ]
     },
     "execution_count": 4,
     "metadata": {},
     "output_type": "execute_result"
    }
   ],
   "source": [
    "hdulist2 = fits.open('RAVE-on-v1.0.fits')\n",
    "hdulist2.info()\n",
    "hdulist2[1].header"
   ]
  },
  {
   "cell_type": "code",
   "execution_count": 5,
   "metadata": {
    "collapsed": true
   },
   "outputs": [],
   "source": [
    "hdulist2.close()"
   ]
  },
  {
   "cell_type": "markdown",
   "metadata": {},
   "source": [
    "En el catálogo *RAVE-ON* tenemos principalmente datos espectroscópicos como gravedad y temperatura. Los datos que nos serán útiles son:\n",
    "\n",
    "- Ascensión Recta (RA)\n",
    "\n",
    "- Declinación (DE)\n",
    "\n",
    "- Velocidad Radial (HRV)\n",
    "\n",
    "Fuentes:\n",
    "> *http://arxiv.org/pdf/1609.02914v1.pdf*"
   ]
  },
  {
   "cell_type": "markdown",
   "metadata": {
    "collapsed": true
   },
   "source": [
    "  **6.- Match de los catálogos y gráfico $M_G$ vs $T_{eff}$**\n",
    "\n",
    "---\n",
    "\n",
    "Ahora hacemos el match de los catálogos."
   ]
  },
  {
   "cell_type": "code",
   "execution_count": 6,
   "metadata": {
    "collapsed": false
   },
   "outputs": [],
   "source": [
    "from gaia_tools import xmatch\n",
    "\n",
    "m1,m2,sep = xmatch.xmatch(raveon_cat,tgas_cat,epoch1=2000,colRA2='ra',colDec2='dec',epoch2=2015)"
   ]
  },
  {
   "cell_type": "code",
   "execution_count": 7,
   "metadata": {
    "collapsed": false
   },
   "outputs": [],
   "source": [
    "import numpy as np\n",
    "\n",
    "PaPE = tgas_cat[m2]['parallax']/tgas_cat[m2]['parallax_error'] > 10 #seleccionamos fuentes de señal a ruido mayor a 10\n",
    "m1 = m1[PaPE]\n",
    "m2 = m2[PaPE]\n",
    "\n",
    "T = raveon_cat[m1]['TEFF']\n",
    "m = tgas_cat[m2]['phot_g_mean_mag']\n",
    "d = tgas_cat[m2]['parallax']\n",
    "M = m+5+5*np.log10(d)-15"
   ]
  },
  {
   "cell_type": "code",
   "execution_count": 8,
   "metadata": {
    "collapsed": false
   },
   "outputs": [
    {
     "data": {
      "image/png": "[encoded data removed]",
      "text/plain": [
       "<matplotlib.figure.Figure at 0x7f272562cba8>"
      ]
     },
     "metadata": {},
     "output_type": "display_data"
    }
   ],
   "source": [
    "import matplotlib.pyplot as plt\n",
    "%matplotlib inline\n",
    "\n",
    "nan = np.isnan(T) + np.isnan(M)\n",
    "\n",
    "Teff = []\n",
    "MG = []\n",
    "\n",
    "Teff.append(T[~nan]) #eliminamos nan\n",
    "MG.append(M[~nan])\n",
    "\n",
    "fig, axis = plt.subplots(figsize=(10,6)) # graficamos\n",
    "for i in range(len(Teff)):\n",
    "    plt.plot(Teff[i],MG[i],'b.')\n",
    "\n",
    "plt.xlim(10000,3000)\n",
    "plt.ylim(11,-2)\n",
    "plt.xlabel('Temperatura efectiva (K)')\n",
    "plt.ylabel('Magnitud G')\n",
    "plt.title('Diagrama Temperatura - Magnitud')\n",
    "plt.show()"
   ]
  },
  {
   "cell_type": "markdown",
   "metadata": {},
   "source": [
    "En el diagrama temperatura versus magnitud G se pueden ver las secuencias principales de muchas poblaciones estelares. También se puede ver que la rama de las gigante y sub-gigantes es muy ancha, debido a que tenemos multiples poblaciones estelares con distitas temperatura y metalicidades.\n",
    "\n",
    "Para hacer el diagrama de Hess, copiamos el código de la tarea 1.2"
   ]
  },
  {
   "cell_type": "code",
   "execution_count": 11,
   "metadata": {
    "collapsed": false
   },
   "outputs": [
    {
     "ename": "KeyboardInterrupt",
     "evalue": "",
     "output_type": "error",
     "traceback": [
      "\u001b[1;31m---------------------------------------------------------------------------\u001b[0m",
      "\u001b[1;31mKeyboardInterrupt\u001b[0m                         Traceback (most recent call last)",
      "\u001b[1;32m<ipython-input-11-23ca4ff701e1>\u001b[0m in \u001b[0;36m<module>\u001b[1;34m()\u001b[0m\n\u001b[0;32m      5\u001b[0m \u001b[1;33m\u001b[0m\u001b[0m\n\u001b[0;32m      6\u001b[0m \u001b[0mVI\u001b[0m \u001b[1;33m=\u001b[0m \u001b[0mnp\u001b[0m\u001b[1;33m.\u001b[0m\u001b[0mvstack\u001b[0m\u001b[1;33m(\u001b[0m\u001b[1;33m[\u001b[0m\u001b[0mTeff\u001b[0m\u001b[1;33m,\u001b[0m\u001b[0mMG\u001b[0m\u001b[1;33m]\u001b[0m\u001b[1;33m)\u001b[0m\u001b[1;33m\u001b[0m\u001b[0m\n\u001b[1;32m----> 7\u001b[1;33m \u001b[0mz\u001b[0m \u001b[1;33m=\u001b[0m \u001b[0mgaussian_kde\u001b[0m\u001b[1;33m(\u001b[0m\u001b[0mVI\u001b[0m\u001b[1;33m)\u001b[0m\u001b[1;33m(\u001b[0m\u001b[0mVI\u001b[0m\u001b[1;33m)\u001b[0m\u001b[1;33m\u001b[0m\u001b[0m\n\u001b[0m\u001b[0;32m      8\u001b[0m \u001b[1;33m\u001b[0m\u001b[0m\n\u001b[0;32m      9\u001b[0m \u001b[0mfig\u001b[0m\u001b[1;33m,\u001b[0m \u001b[0max\u001b[0m \u001b[1;33m=\u001b[0m \u001b[0mplt\u001b[0m\u001b[1;33m.\u001b[0m\u001b[0msubplots\u001b[0m\u001b[1;33m(\u001b[0m\u001b[1;33m)\u001b[0m\u001b[1;33m\u001b[0m\u001b[0m\n",
      "\u001b[1;32m/home/felipe/anaconda3/lib/python3.5/site-packages/scipy/stats/kde.py\u001b[0m in \u001b[0;36mevaluate\u001b[1;34m(self, points)\u001b[0m\n\u001b[0;32m    210\u001b[0m             \u001b[1;32mfor\u001b[0m \u001b[0mi\u001b[0m \u001b[1;32min\u001b[0m \u001b[0mrange\u001b[0m\u001b[1;33m(\u001b[0m\u001b[0mself\u001b[0m\u001b[1;33m.\u001b[0m\u001b[0mn\u001b[0m\u001b[1;33m)\u001b[0m\u001b[1;33m:\u001b[0m\u001b[1;33m\u001b[0m\u001b[0m\n\u001b[0;32m    211\u001b[0m                 \u001b[0mdiff\u001b[0m \u001b[1;33m=\u001b[0m \u001b[0mself\u001b[0m\u001b[1;33m.\u001b[0m\u001b[0mdataset\u001b[0m\u001b[1;33m[\u001b[0m\u001b[1;33m:\u001b[0m\u001b[1;33m,\u001b[0m \u001b[0mi\u001b[0m\u001b[1;33m,\u001b[0m \u001b[0mnewaxis\u001b[0m\u001b[1;33m]\u001b[0m \u001b[1;33m-\u001b[0m \u001b[0mpoints\u001b[0m\u001b[1;33m\u001b[0m\u001b[0m\n\u001b[1;32m--> 212\u001b[1;33m                 \u001b[0mtdiff\u001b[0m \u001b[1;33m=\u001b[0m \u001b[0mdot\u001b[0m\u001b[1;33m(\u001b[0m\u001b[0mself\u001b[0m\u001b[1;33m.\u001b[0m\u001b[0minv_cov\u001b[0m\u001b[1;33m,\u001b[0m \u001b[0mdiff\u001b[0m\u001b[1;33m)\u001b[0m\u001b[1;33m\u001b[0m\u001b[0m\n\u001b[0m\u001b[0;32m    213\u001b[0m                 \u001b[0menergy\u001b[0m \u001b[1;33m=\u001b[0m \u001b[0msum\u001b[0m\u001b[1;33m(\u001b[0m\u001b[0mdiff\u001b[0m\u001b[1;33m*\u001b[0m\u001b[0mtdiff\u001b[0m\u001b[1;33m,\u001b[0m\u001b[0maxis\u001b[0m\u001b[1;33m=\u001b[0m\u001b[1;36m0\u001b[0m\u001b[1;33m)\u001b[0m \u001b[1;33m/\u001b[0m \u001b[1;36m2.0\u001b[0m\u001b[1;33m\u001b[0m\u001b[0m\n\u001b[0;32m    214\u001b[0m                 \u001b[0mresult\u001b[0m \u001b[1;33m=\u001b[0m \u001b[0mresult\u001b[0m \u001b[1;33m+\u001b[0m \u001b[0mexp\u001b[0m\u001b[1;33m(\u001b[0m\u001b[1;33m-\u001b[0m\u001b[0menergy\u001b[0m\u001b[1;33m)\u001b[0m\u001b[1;33m\u001b[0m\u001b[0m\n",
      "\u001b[1;31mKeyboardInterrupt\u001b[0m: "
     ]
    }
   ],
   "source": [
    "from scipy.stats import gaussian_kde\n",
    "\n",
    "ejes = list(zip(Teff,MG))\n",
    "Teff, MG = zip(*ejes)\n",
    "\n",
    "VI = np.vstack([Teff,MG])\n",
    "z = gaussian_kde(VI)(VI)\n",
    "\n",
    "fig, ax = plt.subplots()\n",
    "graf = ax.scatter(Teff, MG, c=z, s=10, marker='s', edgecolor='')\n",
    "fig.colorbar(graf)\n",
    "plt.xlim(10000,3000)\n",
    "plt.ylim(11,-2)\n",
    "plt.xlabel('Temperatura efectiva (K)')\n",
    "plt.ylabel('Magnitud G')\n",
    "plt.title('Diagrama de Hess de Temperatura - Magnitud')\n",
    "plt.show()"
   ]
  },
  {
   "cell_type": "markdown",
   "metadata": {},
   "source": [
    "Fuentes:\n",
    "> *https://github.com/andres-jordan/gaia_tools*"
   ]
  },
  {
   "cell_type": "markdown",
   "metadata": {
    "collapsed": true
   },
   "source": [
    "  **7.- Diagrama $v_x$ - $v_y$**\n",
    "\n",
    "---\n",
    "\n",
    "Para obtener el diagrama $v_x$-$v_y$ primero extraemos las variables ascensión recta (RA), declinación (DEC), velocidad radial (HRV), velocidad ascensión recta (pmra), velocidad declinación (pmdec) y ángulo de paralaje (parallax). luego transformamos de coordenadas y finalmente se grafica."
   ]
  },
  {
   "cell_type": "code",
   "execution_count": 9,
   "metadata": {
    "collapsed": false
   },
   "outputs": [
    {
     "data": {
      "image/png": "[encoded data removed]",
      "text/plain": [
       "<matplotlib.figure.Figure at 0x7f271ff16eb8>"
      ]
     },
     "metadata": {},
     "output_type": "display_data"
    }
   ],
   "source": [
    "from astropy import units as u\n",
    "from astropy.coordinates import SkyCoord\n",
    "\n",
    "va = tgas_cat[m2]['pmra']\n",
    "vd = tgas_cat[m2]['pmdec']\n",
    "# la variable 'd' contiene parallax\n",
    "\n",
    "ar = raveon_cat[m1]['RA'] # ascensión recta\n",
    "dec = raveon_cat[m1]['DEC'] # declinación\n",
    "vr = raveon_cat[m1]['HRV']\n",
    "\n",
    "#transformamos unidades\n",
    "d_as = d*10**(-3) # de miliarcosegundos a arcosegundos\n",
    "va_as = va*10**(-3)\n",
    "vd_as = vd*10**(-3)\n",
    "\n",
    "k = 4.74047\n",
    "theta = np.radians(123) # 123°\n",
    "corgal = SkyCoord('12h51m26.282s', '+27d07m42.01s', frame='icrs')\n",
    "angp = corgal.ra.radian # 12h 49m punto galáctico\n",
    "dngp = corgal.dec.radian # 27,4° punto galáctico\n",
    "\n",
    "matrizT = np.matrix([[-np.cos(theta)*np.cos(angp)*np.sin(dngp)-np.sin(theta)*np.sin(angp),-np.cos(theta)*np.sin(dngp)*np.sin(angp)+np.sin(theta)*np.cos(angp),np.cos(theta)*np.cos(dngp)],\n",
    "                     [-np.sin(theta)*np.cos(angp)*np.sin(dngp)+np.cos(theta)*np.sin(angp),-np.sin(theta)*np.sin(dngp)*np.sin(angp)-np.cos(theta)*np.cos(angp),np.sin(theta)*np.cos(dngp)],\n",
    "                     [np.cos(dngp)*np.cos(angp),np.cos(dngp)*np.sin(angp),np.sin(dngp)]])\n",
    "\n",
    "fig, axis = plt.subplots(figsize=(10,6)) # graficamos\n",
    "# tome solo algunas fuentes (porque tomandolas todas explota el pc, pero en tu pc supongo que las puedes tomar todas)\n",
    "for j in range(10000):\n",
    "    matrizA = np.matrix([[np.cos(dec[j])*np.cos(ar[j]),-np.sin(ar[j]),-np.cos(ar[j])*np.sin(dec[j])],\n",
    "                         [np.cos(dec[j])*np.sin(ar[j]),np.cos(ar[j]),-np.sin(ar[j])*np.sin(dec[j])],\n",
    "                         [np.sin(dec[j]),0,np.cos(dec[j])]])\n",
    "    matrizF = matrizT * matrizA\n",
    "    vectori = np.array([vr[j],k*va_as[j]*np.cos(dec[j])/d_as[j],k*vd_as[j]/d_as[j]])\n",
    "    vectorf = np.dot(matrizF, vectori)\n",
    "    vx = vectorf[0,0]\n",
    "    vy = vectorf[0,1]\n",
    "    plt.plot(vx,vy,'b.')\n",
    "\n",
    "#plt.xlim(8200,3200)\n",
    "#plt.ylim(11,-2)\n",
    "plt.xlabel('v_x (km/s)')\n",
    "plt.ylabel('v_y (km/s)')\n",
    "plt.title('v_x versus v_y')\n",
    "plt.show()"
   ]
  },
  {
   "cell_type": "markdown",
   "metadata": {},
   "source": [
    "Vemos que el giro está centrada en cero (esperable ya que el sistema de coordenadas está definida en la galaxia, o sea la galaxia no se mueve con respecto a su propio sistema de referencia). También se ve que no es un círculo, sino que tiene un cierto alargamiento en la velocidad $x$. Esto probablemente sea por la velocidades relativas que tienen cumulos y zonas de formación estelar entre ellas, es decir, hay una dinámica en la galaxia.\n",
    "\n",
    "Ahora hacemos el diagrama de Hess:"
   ]
  },
  {
   "cell_type": "code",
   "execution_count": null,
   "metadata": {
    "collapsed": true
   },
   "outputs": [],
   "source": []
  },
  {
   "cell_type": "markdown",
   "metadata": {},
   "source": [
    "Fuentes:\n",
    "> *https://ui.adsabs.harvard.edu/#abs/2009ApJ...700.1794B/abstract*\n",
    "\n",
    "> *http://iopscience.iop.org/article/10.1088/0004-637X/700/2/1794/pdf*"
   ]
  },
  {
   "cell_type": "code",
   "execution_count": null,
   "metadata": {
    "collapsed": true
   },
   "outputs": [],
   "source": []
  }
 ],
 "metadata": {
  "anaconda-cloud": {},
  "kernelspec": {
   "display_name": "Python [Root]",
   "language": "python",
   "name": "Python [Root]"
  },
  "language_info": {
   "codemirror_mode": {
    "name": "ipython",
    "version": 3
   },
   "file_extension": ".py",
   "mimetype": "text/x-python",
   "name": "python",
   "nbconvert_exporter": "python",
   "pygments_lexer": "ipython3",
   "version": "3.5.2"
  }
 },
 "nbformat": 4,
 "nbformat_minor": 0
}
