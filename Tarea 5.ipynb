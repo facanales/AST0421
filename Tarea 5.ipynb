{
 "cells": [
  {
   "cell_type": "markdown",
   "metadata": {},
   "source": [
    "  **1.- M87**\n",
    "\n",
    "---\n",
    "\n",
    "Se obtienen las imágenes de M81 de *Hubble Legacy Archive* seleccionadas con los siguientes criterios:\n",
    "\n",
    "| Objeto | Programa | Nombre PI | Detector |    Filtros     |\n",
    "|:------:|:--------:|:---------:|:--------:|:--------------:|\n",
    "|  M87   |   9401   |    Cote   | ACS/WFC  | F475W - F850LP |\n",
    "\n",
    "Luego guardamos los datos en un archivo, extrayendo imágenes de ciencia y las imágenes de pesos."
   ]
  },
  {
   "cell_type": "code",
   "execution_count": 1,
   "metadata": {
    "collapsed": false
   },
   "outputs": [
    {
     "name": "stdout",
     "output_type": "stream",
     "text": [
      "Filename: hst_9401_02_acs_wfc_f475w_drz.fits\n",
      "No.    Name         Type      Cards   Dimensions   Format\n",
      "0    PRIMARY     PrimaryHDU     788   ()              \n",
      "1    SCI         ImageHDU        85   (4238, 4213)   float32   \n",
      "2    WHT         ImageHDU        47   (4238, 4213)   float32   \n",
      "3    CTX         ImageHDU        40   (4238, 4213)   int32   \n",
      "4    HDRTAB      BinTableHDU    631   4R x 311C    [9A, 3A, J, D, D, D, D, D, D, D, D, D, D, D, D, D, J, 3A, 9A, 7A, 18A, 4A, D, D, D, D, 3A, D, D, D, D, D, D, D, D, D, D, D, D, J, 8A, 23A, D, D, D, D, J, J, J, 8A, J, 23A, 9A, 19A, J, 4A, J, J, J, J, J, J, 23A, D, D, D, D, J, J, 3A, 23A, 4A, 7A, J, D, D, D, 23A, 1A, J, D, D, D, 13A, 3A, 4A, 4A, 12A, 12A, 23A, 8A, 23A, 10A, 10A, D, D, 3A, 3A, 23A, 4A, 8A, 7A, 23A, D, J, D, 6A, 9A, 8A, D, D, J, 4A, 18A, 3A, J, 5A, 7A, 3A, D, 13A, 8A, 4A, 3A, J, J, J, J, J, J, J, D, D, D, D, D, D, 23A, 1A, D, 23A, D, D, D, 3A, 23A, J, 1A, 3A, 1A, D, 3A, 6A, J, D, D, D, D, D, D, D, D, D, D, 23A, D, D, D, D, 3A, D, D, D, 1A, J, J, J, J, J, J, 23A, J, 5A, 7A, D, D, D, D, D, D, D, D, D, D, D, D, D, D, D, D, D, 12A, D, 24A, 23A, D, 1A, 1A, D, J, D, D, 1A, 1A, D, 4A, J, D, J, 8A, D, J, D, J, J, 23A, 23A, D, 8A, D, 29A, D, 3A, D, J, D, D, 3A, 7A, 4A, 1A, D, 3A, J, 1A, 1A, 1A, 1A, D, D, D, D, D, D, 4A, D, 4A, D, 4A, J, 4A, 3A, 1A, J, J, J, 1A, D, D, D, D, J, 3A, J, J, 6A, J, D, D, 7A, D, D, 3A, 8A, 1A, D, J, D, J, J, 5A, 4A, J, D, D, D, D, D, D, D, D, D, D, D, D, D, D, 8A, 8A, 3A, 3A]   \n",
      "5    EXP         ImageHDU         8   (4238, 4213)   float32   \n",
      "Filename: hst_9401_02_acs_wfc_f850lp_drz.fits\n",
      "No.    Name         Type      Cards   Dimensions   Format\n",
      "0    PRIMARY     PrimaryHDU     824   ()              \n",
      "1    SCI         ImageHDU        85   (4238, 4213)   float32   \n",
      "2    WHT         ImageHDU        47   (4238, 4213)   float32   \n",
      "3    CTX         ImageHDU        40   (4238, 4213)   int32   \n",
      "4    HDRTAB      BinTableHDU    631   6R x 311C    [9A, 3A, J, D, D, D, D, D, D, D, D, D, D, D, D, D, J, 3A, 9A, 7A, 18A, 4A, D, D, D, D, 3A, D, D, D, D, D, D, D, D, D, D, D, D, J, 8A, 23A, D, D, D, D, J, J, J, 8A, J, 23A, 9A, 19A, J, 4A, J, J, J, J, J, J, 23A, D, D, D, D, J, J, 3A, 23A, 4A, 7A, J, D, D, D, 23A, 1A, J, D, D, D, 13A, 3A, 4A, 4A, 12A, 12A, 23A, 8A, 23A, 10A, 10A, D, D, 3A, 3A, 23A, 4A, 8A, 7A, 23A, D, J, D, 6A, 9A, 8A, D, D, J, 4A, 18A, 3A, J, 6A, 7A, 3A, D, 13A, 8A, 4A, 3A, J, J, J, J, J, J, J, D, D, D, D, D, D, 23A, 1A, D, 23A, D, D, D, 3A, 23A, J, 1A, 3A, 1A, D, 3A, 6A, J, D, D, D, D, D, D, D, D, D, D, 23A, D, D, D, D, 3A, D, D, D, 1A, J, J, J, J, J, J, 23A, J, 5A, 7A, D, D, D, D, D, D, D, D, D, D, D, D, D, D, D, D, D, 12A, D, 24A, 23A, D, 1A, 1A, D, J, D, D, 1A, 1A, D, 4A, J, D, J, 8A, D, J, D, J, J, 23A, 23A, D, 8A, D, 30A, D, 3A, D, J, D, D, 3A, 7A, 4A, 1A, D, 3A, J, 1A, 1A, 1A, 1A, D, D, D, D, D, D, 4A, D, 4A, D, 4A, J, 4A, 3A, 1A, J, J, J, 1A, D, D, D, D, J, 3A, J, J, 6A, J, D, D, 7A, D, D, 3A, 8A, 1A, D, J, D, J, J, 5A, 4A, J, D, D, D, D, D, D, D, D, D, D, D, D, D, D, 8A, 8A, 3A, 3A]   \n",
      "5    EXP         ImageHDU         8   (4238, 4213)   float32   \n"
     ]
    }
   ],
   "source": [
    "from astropy.io import fits\n",
    "\n",
    "hdulist1 = fits.open('hst_9401_02_acs_wfc_f475w_drz.fits')\n",
    "hdulist1.info()\n",
    "fits.writeto(\"sci_{}\".format(\"f475w.fits\"), hdulist1[1].data, hdulist1[1].header, clobber=True)\n",
    "fits.writeto(\"invar_{}\".format(\"f475w.fits\"), hdulist1[2].data, hdulist1[2].header, clobber=True)\n",
    "hdulist1.close()\n",
    "hdulist2 = fits.open('hst_9401_02_acs_wfc_f850lp_drz.fits')\n",
    "hdulist2.info()\n",
    "fits.writeto(\"sci_{}\".format(\"f850lp.fits\"), hdulist2[1].data, hdulist2[1].header, clobber=True)\n",
    "fits.writeto(\"invar_{}\".format(\"f850lp.fits\"), hdulist2[2].data, hdulist2[2].header, clobber=True)\n",
    "hdulist2.close()"
   ]
  },
  {
   "cell_type": "markdown",
   "metadata": {},
   "source": [
    "Utilizamos el comando para ver el input que se necesita para correr sextractor"
   ]
  },
  {
   "cell_type": "code",
   "execution_count": 2,
   "metadata": {
    "collapsed": false
   },
   "outputs": [
    {
     "name": "stdout",
     "output_type": "stream",
     "text": [
      "\r\n",
      "> SYNTAX: sextractor <image> [<image2>][-c <configuration_file>][-<keyword> <value>]\r\n",
      "> to dump a default configuration file:          sextractor -d \r\n",
      "> to dump a default extended configuration file: sextractor -dd \r\n",
      "> to dump a full list of measurement parameters: sextractor -dp \r\n",
      "\r\n",
      "\r\n"
     ]
    }
   ],
   "source": [
    "!sextractor -h"
   ]
  },
  {
   "cell_type": "markdown",
   "metadata": {},
   "source": [
    "Para detectar la fuentes se determinan ciertos los parámetros en el archivo *default.sex*. Para darle pesos a las cuentas de los pixeles configuramos *WEIGHT_TYPE* en *MAP_WEIGH* y le damos la imágenes de los inverzos de las varianzas *invar_filtro.fits* a *WEIGHT_IMAGE*. De la literatura (fuente indicada más abajo) se obtiene que el *GAIN* y el *SEEING_FWHM* con valores de 1 y 0.12 respectivamente. *PIXEL_SCALE* se configura en 0 para que el programa lo lea directamente del header. Con DS9 se observan las imágenes y se determina que hay fuentes con 6 pixeles, por lo que se configura *DETECT_MINAREA* en 3 y *PHOT_APERTURES* en 7. Finalmente *MAG_ZEROPOINT* se determina en 25.\n",
    "\n",
    "Para el archivo de salida, se obtienen las cantidades que se descomentan en el archivo *default.param*. Dichas cantidades son *MAG_APER*, *MAGERR_APER*, *ALPHA_J2000* y *DELTA_J2000*.\n",
    "\n",
    "Corremos sextractor para las dos imágenes y se imprime en pantalla el resultado"
   ]
  },
  {
   "cell_type": "code",
   "execution_count": 3,
   "metadata": {
    "collapsed": false
   },
   "outputs": [
    {
     "name": "stdout",
     "output_type": "stream",
     "text": [
      "F475W\n",
      "  Objects: detected 6412     / sextracted 4260            \n",
      "\n",
      "\u001b[1M> Closing files\n",
      "\u001b[1A\u001b[1M> \n",
      "\u001b[1A> All done (in 11.8 s: 357.9 lines/s , 361.9 detections/s) \n",
      "\n"
     ]
    }
   ],
   "source": [
    "salida1 = !sextractor sci_f475w.fits -c default.sex\n",
    "print('F475W\\n', salida1.n[-152:], '\\n')"
   ]
  },
  {
   "cell_type": "code",
   "execution_count": 4,
   "metadata": {
    "collapsed": false
   },
   "outputs": [
    {
     "name": "stdout",
     "output_type": "stream",
     "text": [
      "F850LP\n",
      "  Objects: detected 9146     / sextracted 5642            \n",
      "\n",
      "\u001b[1M> Closing files\n",
      "\u001b[1A\u001b[1M> \n",
      "\u001b[1A> All done (in 16.5 s: 255.1 lines/s , 341.6 detections/s) \n",
      "\n"
     ]
    }
   ],
   "source": [
    "salida2 = !sextractor sci_f850lp.fits -c default.sex\n",
    "print('F850LP\\n', salida2.n[-152:], '\\n')"
   ]
  },
  {
   "cell_type": "markdown",
   "metadata": {},
   "source": [
    "Se realiza la union de las fuentes coincidentes en los dos catálogos y se hace la calibración fotométrica:\n",
    "\n",
    "$MAG_{corr} = MAG + A_{λ} + Aper_{corr}$\n",
    "\n",
    "$F475W_{corr} = F475W + 0.075 + Aper_{corr}$\n",
    "\n",
    "$F850LP_{corr} = F850LP + 0.029 + Aper_{corr}$"
   ]
  },
  {
   "cell_type": "code",
   "execution_count": 2,
   "metadata": {
    "collapsed": true
   },
   "outputs": [],
   "source": [
    "from astropy.io import ascii\n",
    "from astropy.coordinates import SkyCoord\n",
    "from astropy import units as u\n",
    "import numpy as np\n",
    "\n",
    "catalogos = []\n",
    "coordenadas = []\n",
    "\n",
    "f475w = ascii.read('f475w.cat')\n",
    "catalogos.append(f475w)\n",
    "coordenadas.append(SkyCoord(ra=f475w['ALPHA_J2000'],dec=f475w['DELTA_J2000'],unit='deg'))\n",
    "\n",
    "f850lp = ascii.read('f850lp.cat')\n",
    "catalogos.append(f850lp)\n",
    "coordenadas.append(SkyCoord(ra=f850lp['ALPHA_J2000'],dec=f850lp['DELTA_J2000'],unit='deg'))\n",
    "\n",
    "idx, sep2d, dist3d = SkyCoord.match_to_catalog_sky(coordenadas[0],coordenadas[1])\n",
    "union = list(zip(range(0, len(idx)), idx, sep2d))\n",
    "\n",
    "par1, par2, par3 = zip(*union)\n",
    "catalogos[0] = catalogos[0][list(par1)]\n",
    "catalogos[1] = catalogos[1][list(par2)]\n",
    "\n",
    "Lf475w = list(map(lambda x: x+0.075+0.44, catalogos[0]['MAG_APER']))\n",
    "Lf850lp = list(map(lambda x: x+0.029+0.81, catalogos[1]['MAG_APER']))"
   ]
  },
  {
   "cell_type": "markdown",
   "metadata": {},
   "source": [
    "Se realiza un histograma de color obtenido con las magnitudes de la fotometría"
   ]
  },
  {
   "cell_type": "code",
   "execution_count": 3,
   "metadata": {
    "collapsed": false
   },
   "outputs": [
    {
     "name": "stdout",
     "output_type": "stream",
     "text": [
      "Populating the interactive namespace from numpy and matplotlib\n"
     ]
    },
    {
     "data": {
      "text/plain": [
       "(array([   4.,    4.,    3.,    5.,    3.,    3.,    7.,    4.,    2.,\n",
       "           5.,    8.,    5.,    6.,    9.,    7.,   11.,    9.,   14.,\n",
       "          19.,   17.,   24.,   29.,   54.,   85.,  130.,  145.,  135.,\n",
       "         131.,  115.,  118.,  127.,  125.,  121.,  180.,  189.,  194.,\n",
       "         225.,  203.,  155.,  128.,   99.,   78.,   80.,   79.,   71.,\n",
       "          72.,   61.,   52.,   53.,   48.,   46.,   29.,   50.,   36.,\n",
       "          26.,   23.,   32.,   34.,   22.,   27.,   13.,   16.,   15.,\n",
       "          19.,   15.,   15.,   12.,   12.,   12.,   14.,   13.,   12.,\n",
       "          10.,   12.,    9.,   10.,   12.,    7.,    8.,    1.,    8.,\n",
       "           6.,    8.,   12.,    4.,   10.,    7.,    8.,    8.,   13.,\n",
       "           6.,    4.,    9.,    6.,    4.,    4.,    2.,    4.,    2.,    6.]),\n",
       " array([-1.9573  , -1.907742, -1.858184, -1.808626, -1.759068, -1.70951 ,\n",
       "        -1.659952, -1.610394, -1.560836, -1.511278, -1.46172 , -1.412162,\n",
       "        -1.362604, -1.313046, -1.263488, -1.21393 , -1.164372, -1.114814,\n",
       "        -1.065256, -1.015698, -0.96614 , -0.916582, -0.867024, -0.817466,\n",
       "        -0.767908, -0.71835 , -0.668792, -0.619234, -0.569676, -0.520118,\n",
       "        -0.47056 , -0.421002, -0.371444, -0.321886, -0.272328, -0.22277 ,\n",
       "        -0.173212, -0.123654, -0.074096, -0.024538,  0.02502 ,  0.074578,\n",
       "         0.124136,  0.173694,  0.223252,  0.27281 ,  0.322368,  0.371926,\n",
       "         0.421484,  0.471042,  0.5206  ,  0.570158,  0.619716,  0.669274,\n",
       "         0.718832,  0.76839 ,  0.817948,  0.867506,  0.917064,  0.966622,\n",
       "         1.01618 ,  1.065738,  1.115296,  1.164854,  1.214412,  1.26397 ,\n",
       "         1.313528,  1.363086,  1.412644,  1.462202,  1.51176 ,  1.561318,\n",
       "         1.610876,  1.660434,  1.709992,  1.75955 ,  1.809108,  1.858666,\n",
       "         1.908224,  1.957782,  2.00734 ,  2.056898,  2.106456,  2.156014,\n",
       "         2.205572,  2.25513 ,  2.304688,  2.354246,  2.403804,  2.453362,\n",
       "         2.50292 ,  2.552478,  2.602036,  2.651594,  2.701152,  2.75071 ,\n",
       "         2.800268,  2.849826,  2.899384,  2.948942,  2.9985  ]),\n",
       " <a list of 100 Patch objects>)"
      ]
     },
     "execution_count": 3,
     "metadata": {},
     "output_type": "execute_result"
    },
    {
     "data": {
      "image/png": "[encoded data removed]",
      "text/plain": [
       "<matplotlib.figure.Figure at 0x7f29b432dd30>"
      ]
     },
     "metadata": {},
     "output_type": "display_data"
    }
   ],
   "source": [
    "import matplotlib.pyplot as plt\n",
    "import numpy as np\n",
    "%pylab inline\n",
    "\n",
    "dif = []\n",
    "for i in range(len(Lf475w)):\n",
    "    if Lf475w[i] - Lf850lp[i] > -2 and Lf475w[i] - Lf850lp[i] < 3:\n",
    "        dif.append(Lf475w[i] - Lf850lp[i])\n",
    "\n",
    "plt.subplots(figsize=(12,6))\n",
    "plt.title(\"Histograma color\")\n",
    "plt.xlabel(\"F475W-F850LP\")\n",
    "plt.ylabel(\"Número de objetos\")\n",
    "plt.hist(dif, bins = 100)"
   ]
  },
  {
   "cell_type": "markdown",
   "metadata": {},
   "source": [
    "Del histograma vemos que hay dos máximos, que corresponden probablemente a dos periodos de formación de cúmulos, uno mas antiguo que el otro debido a que uno es más azul.\n",
    "\n",
    "Para determinar la distancia hacemos el histograma de cada uno de los filtros"
   ]
  },
  {
   "cell_type": "code",
   "execution_count": 49,
   "metadata": {
    "collapsed": false
   },
   "outputs": [
    {
     "data": {
      "text/plain": [
       "(array([   4.,    4.,    6.,   10.,    4.,    8.,   11.,   11.,   10.,\n",
       "           7.,   14.,   16.,   12.,   21.,   17.,   19.,   13.,   10.,\n",
       "          11.,   16.,   14.,   20.,   18.,   22.,   19.,   21.,   25.,\n",
       "          15.,   18.,   21.,   31.,   29.,   35.,   31.,   28.,   41.,\n",
       "          27.,   30.,   38.,   32.,   47.,   33.,   40.,   35.,   31.,\n",
       "          45.,   38.,   38.,   42.,   41.,   38.,   42.,   47.,   37.,\n",
       "          32.,   37.,   37.,   33.,   34.,   60.,   44.,   45.,   58.,\n",
       "          57.,   69.,   66.,   86.,   96.,  110.,   97.,  132.,  114.,\n",
       "         150.,  139.,  132.,  137.,  120.,  123.,  125.,  112.,   88.,\n",
       "          88.,   96.,   68.,   62.,   57.,   48.,   31.,   25.,   16.,\n",
       "          20.,   15.,   18.,   13.,    7.,    4.,    5.,    5.,    4.,    2.]),\n",
       " array([ 21.0176  ,  21.076733,  21.135866,  21.194999,  21.254132,\n",
       "         21.313265,  21.372398,  21.431531,  21.490664,  21.549797,\n",
       "         21.60893 ,  21.668063,  21.727196,  21.786329,  21.845462,\n",
       "         21.904595,  21.963728,  22.022861,  22.081994,  22.141127,\n",
       "         22.20026 ,  22.259393,  22.318526,  22.377659,  22.436792,\n",
       "         22.495925,  22.555058,  22.614191,  22.673324,  22.732457,\n",
       "         22.79159 ,  22.850723,  22.909856,  22.968989,  23.028122,\n",
       "         23.087255,  23.146388,  23.205521,  23.264654,  23.323787,\n",
       "         23.38292 ,  23.442053,  23.501186,  23.560319,  23.619452,\n",
       "         23.678585,  23.737718,  23.796851,  23.855984,  23.915117,\n",
       "         23.97425 ,  24.033383,  24.092516,  24.151649,  24.210782,\n",
       "         24.269915,  24.329048,  24.388181,  24.447314,  24.506447,\n",
       "         24.56558 ,  24.624713,  24.683846,  24.742979,  24.802112,\n",
       "         24.861245,  24.920378,  24.979511,  25.038644,  25.097777,\n",
       "         25.15691 ,  25.216043,  25.275176,  25.334309,  25.393442,\n",
       "         25.452575,  25.511708,  25.570841,  25.629974,  25.689107,\n",
       "         25.74824 ,  25.807373,  25.866506,  25.925639,  25.984772,\n",
       "         26.043905,  26.103038,  26.162171,  26.221304,  26.280437,\n",
       "         26.33957 ,  26.398703,  26.457836,  26.516969,  26.576102,\n",
       "         26.635235,  26.694368,  26.753501,  26.812634,  26.871767,  26.9309  ]),\n",
       " <a list of 100 Patch objects>)"
      ]
     },
     "execution_count": 49,
     "metadata": {},
     "output_type": "execute_result"
    },
    {
     "data": {
      "image/png": "[encoded data removed]",
      "text/plain": [
       "<matplotlib.figure.Figure at 0x7f29a8404d30>"
      ]
     },
     "metadata": {},
     "output_type": "display_data"
    }
   ],
   "source": [
    "dif2 = []\n",
    "for i in range(len(Lf475w)):\n",
    "    if Lf475w[i] > 21 and Lf475w[i] < 27:\n",
    "        dif2.append(Lf475w[i])\n",
    "\n",
    "plt.subplots(figsize=(12,6))\n",
    "plt.title(\"Histograma Magnitud F475W\")\n",
    "plt.xlabel(\"F475W\")\n",
    "plt.ylabel(\"Número de objetos\")\n",
    "plt.hist(dif2, bins = 100, facecolor='red')"
   ]
  },
  {
   "cell_type": "code",
   "execution_count": 50,
   "metadata": {
    "collapsed": false
   },
   "outputs": [
    {
     "data": {
      "text/plain": [
       "(array([   7.,    3.,    3.,    2.,    0.,    3.,    7.,    6.,    6.,\n",
       "           9.,    7.,   10.,    8.,   11.,   11.,   18.,   19.,   23.,\n",
       "          23.,   12.,   14.,   18.,   23.,   23.,   16.,   24.,   28.,\n",
       "          29.,   23.,   14.,   24.,   23.,   17.,   22.,   28.,   36.,\n",
       "          42.,   40.,   49.,   39.,   33.,   22.,   51.,   38.,   52.,\n",
       "          62.,   37.,   45.,   59.,   62.,   45.,   50.,   63.,   55.,\n",
       "          57.,   60.,   31.,   30.,   53.,   46.,   57.,   74.,   73.,\n",
       "         103.,   98.,  127.,   78.,   95.,  103.,  148.,  112.,  111.,\n",
       "          97.,  124.,  100.,  122.,  115.,   73.,   83.,   72.,   76.,\n",
       "          57.,   55.,   52.,   62.,   50.,   38.,   31.,   46.,   27.,\n",
       "          21.,   17.,    7.,    7.,    6.,    5.,    4.,    2.,    8.,    2.]),\n",
       " array([ 21.016   ,  21.075737,  21.135474,  21.195211,  21.254948,\n",
       "         21.314685,  21.374422,  21.434159,  21.493896,  21.553633,\n",
       "         21.61337 ,  21.673107,  21.732844,  21.792581,  21.852318,\n",
       "         21.912055,  21.971792,  22.031529,  22.091266,  22.151003,\n",
       "         22.21074 ,  22.270477,  22.330214,  22.389951,  22.449688,\n",
       "         22.509425,  22.569162,  22.628899,  22.688636,  22.748373,\n",
       "         22.80811 ,  22.867847,  22.927584,  22.987321,  23.047058,\n",
       "         23.106795,  23.166532,  23.226269,  23.286006,  23.345743,\n",
       "         23.40548 ,  23.465217,  23.524954,  23.584691,  23.644428,\n",
       "         23.704165,  23.763902,  23.823639,  23.883376,  23.943113,\n",
       "         24.00285 ,  24.062587,  24.122324,  24.182061,  24.241798,\n",
       "         24.301535,  24.361272,  24.421009,  24.480746,  24.540483,\n",
       "         24.60022 ,  24.659957,  24.719694,  24.779431,  24.839168,\n",
       "         24.898905,  24.958642,  25.018379,  25.078116,  25.137853,\n",
       "         25.19759 ,  25.257327,  25.317064,  25.376801,  25.436538,\n",
       "         25.496275,  25.556012,  25.615749,  25.675486,  25.735223,\n",
       "         25.79496 ,  25.854697,  25.914434,  25.974171,  26.033908,\n",
       "         26.093645,  26.153382,  26.213119,  26.272856,  26.332593,\n",
       "         26.39233 ,  26.452067,  26.511804,  26.571541,  26.631278,\n",
       "         26.691015,  26.750752,  26.810489,  26.870226,  26.929963,  26.9897  ]),\n",
       " <a list of 100 Patch objects>)"
      ]
     },
     "execution_count": 50,
     "metadata": {},
     "output_type": "execute_result"
    },
    {
     "data": {
      "image/png": "[encoded data removed]",
      "text/plain": [
       "<matplotlib.figure.Figure at 0x7f29b45fd978>"
      ]
     },
     "metadata": {},
     "output_type": "display_data"
    }
   ],
   "source": [
    "dif3 = []\n",
    "for i in range(len(Lf850lp)):\n",
    "    if Lf850lp[i] > 21 and Lf850lp[i] < 27:\n",
    "        dif3.append(Lf850lp[i])\n",
    "\n",
    "plt.subplots(figsize=(12,6))\n",
    "plt.title(\"Histograma Magnitud F850LP\")\n",
    "plt.xlabel(\"F850LP\")\n",
    "plt.ylabel(\"Número de objetos\")\n",
    "plt.hist(dif3, bins = 100, facecolor='green')"
   ]
  },
  {
   "cell_type": "markdown",
   "metadata": {},
   "source": [
    "El máximo se ve en magnitud 25,3. Como el máximo en magnitud absoluta se espera que esté en magnitud $M_V = -7.4$, usamos el módulo de distancia para calcular la distancia física a M87.\n",
    "\n",
    "$d = 10^{(\\frac{m-M+5}{5})}$"
   ]
  },
  {
   "cell_type": "code",
   "execution_count": 2,
   "metadata": {
    "collapsed": false
   },
   "outputs": [
    {
     "name": "stdout",
     "output_type": "stream",
     "text": [
      "La distancia a M87 es: 31.622776601683793 Mpc\n"
     ]
    }
   ],
   "source": [
    "d = 10**((25.1+7.4+5)/5)\n",
    "\n",
    "print(\"La distancia a M87 es:\", d/(10**6), \"Mpc\")"
   ]
  },
  {
   "cell_type": "markdown",
   "metadata": {},
   "source": [
    "Se descarga las imágenes de rayos X de Chandra de M87 para tiempos mayores a 100 ks"
   ]
  },
  {
   "cell_type": "code",
   "execution_count": 25,
   "metadata": {
    "collapsed": false
   },
   "outputs": [
    {
     "data": {
      "image/jpeg": "[encoded data removed]",
      "text/plain": [
       "<IPython.core.display.Image object>"
      ]
     },
     "execution_count": 25,
     "metadata": {},
     "output_type": "execute_result"
    }
   ],
   "source": [
    "from IPython.display import Image\n",
    "\n",
    "Image(filename=\"m87.jpg\")"
   ]
  },
  {
   "cell_type": "markdown",
   "metadata": {},
   "source": [
    "Usamos sextractor en la imagen de Chandra"
   ]
  },
  {
   "cell_type": "code",
   "execution_count": 28,
   "metadata": {
    "collapsed": false
   },
   "outputs": [
    {
     "name": "stdout",
     "output_type": "stream",
     "text": [
      "Xray\n",
      "  Objects: detected 43       / sextracted 10              \n",
      "\n",
      "\u001b[1M> Closing files\n",
      "\u001b[1A\u001b[1M> \n",
      "\u001b[1A> All done (in 0.1 s: 4924.8 lines/s , 157.8 detections/s) \n",
      "\n"
     ]
    }
   ],
   "source": [
    "salida1 = !sextractor acisf05826N003_full_img2.fits -c default.sex\n",
    "print('Xray\\n', salida1.n[-152:], '\\n')"
   ]
  },
  {
   "cell_type": "code",
   "execution_count": 46,
   "metadata": {
    "collapsed": false
   },
   "outputs": [
    {
     "data": {
      "text/html": [
       "&lt;Table length=10&gt;\n",
       "<table id=\"table139816817801760\" class=\"table-striped table-bordered table-condensed\">\n",
       "<thead><tr><th>MAG_APER</th><th>MAGERR_APER</th><th>ALPHA_J2000</th><th>DELTA_J2000</th></tr></thead>\n",
       "<thead><tr><th>mag</th><th>mag</th><th>deg</th><th>deg</th></tr></thead>\n",
       "<thead><tr><th>float64</th><th>float64</th><th>float64</th><th>float64</th></tr></thead>\n",
       "<tr><td>15.9859</td><td>0.0214</td><td>187.6922752</td><td>12.4189314</td></tr>\n",
       "<tr><td>15.5056</td><td>0.0137</td><td>187.7428993</td><td>12.3934599</td></tr>\n",
       "<tr><td>13.6761</td><td>0.0025</td><td>187.704616</td><td>12.3853526</td></tr>\n",
       "<tr><td>16.5178</td><td>0.0348</td><td>187.7454279</td><td>12.4238211</td></tr>\n",
       "<tr><td>17.6832</td><td>0.1022</td><td>187.6362888</td><td>12.365903</td></tr>\n",
       "<tr><td>18.1761</td><td>0.1608</td><td>187.726137</td><td>12.5068871</td></tr>\n",
       "<tr><td>17.9893</td><td>0.1353</td><td>187.8046331</td><td>12.4791289</td></tr>\n",
       "<tr><td>17.6952</td><td>0.1032</td><td>187.6135042</td><td>12.4179924</td></tr>\n",
       "<tr><td>16.5473</td><td>0.0358</td><td>187.73209</td><td>12.4231453</td></tr>\n",
       "<tr><td>17.4425</td><td>0.0816</td><td>187.7806942</td><td>12.298073</td></tr>\n",
       "</table>"
      ],
      "text/plain": [
       "<Table length=10>\n",
       "MAG_APER MAGERR_APER ALPHA_J2000 DELTA_J2000\n",
       "  mag        mag         deg         deg    \n",
       "float64    float64     float64     float64  \n",
       "-------- ----------- ----------- -----------\n",
       " 15.9859      0.0214 187.6922752  12.4189314\n",
       " 15.5056      0.0137 187.7428993  12.3934599\n",
       " 13.6761      0.0025  187.704616  12.3853526\n",
       " 16.5178      0.0348 187.7454279  12.4238211\n",
       " 17.6832      0.1022 187.6362888   12.365903\n",
       " 18.1761      0.1608  187.726137  12.5068871\n",
       " 17.9893      0.1353 187.8046331  12.4791289\n",
       " 17.6952      0.1032 187.6135042  12.4179924\n",
       " 16.5473      0.0358   187.73209  12.4231453\n",
       " 17.4425      0.0816 187.7806942   12.298073"
      ]
     },
     "execution_count": 46,
     "metadata": {},
     "output_type": "execute_result"
    }
   ],
   "source": [
    "Xray = ascii.read('xray.cat')\n",
    "Xray"
   ]
  },
  {
   "cell_type": "markdown",
   "metadata": {},
   "source": [
    "La emisión en rayos X en una galaxia se puede deber a muchos proceso violentos como supernovas, jets de emisión o discos de acreción de agujeros negros y explosiones de novas.\n",
    "Las supernovas no pueden mantener la tasa de emisión de rayos X observada, mientras que en cúmulos globulares, que son altamente densos, puede ser común que estrellas pequeñas como estrellas de neutrones o enanas blancas acreten material de un vecino cercano comenzando reacciones que producen novas, emitiendo en rayos X.\n",
    "\n",
    "Fuentes:\n",
    "> *http://cda.harvard.edu/chaser/dispatchOcat.do*"
   ]
  },
  {
   "cell_type": "code",
   "execution_count": null,
   "metadata": {
    "collapsed": true
   },
   "outputs": [],
   "source": []
  }
 ],
 "metadata": {
  "anaconda-cloud": {},
  "kernelspec": {
   "display_name": "Python [Root]",
   "language": "python",
   "name": "Python [Root]"
  },
  "language_info": {
   "codemirror_mode": {
    "name": "ipython",
    "version": 3
   },
   "file_extension": ".py",
   "mimetype": "text/x-python",
   "name": "python",
   "nbconvert_exporter": "python",
   "pygments_lexer": "ipython3",
   "version": "3.5.2"
  }
 },
 "nbformat": 4,
 "nbformat_minor": 0
}
