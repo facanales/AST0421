{
 "cells": [
  {
   "cell_type": "markdown",
   "metadata": {},
   "source": [
    "  **1.- Observaciones en el ODUC**\n",
    "\n",
    "---\n",
    "\n",
    "Se tomaron imágenes en el Observatorio UC Santa Martina con instrumeto PUCHEROS (espectrógrafo echelle de alta resoolución) instalado en el telescopio ESO50.\n",
    "\n",
    "Primero se observaron las fuentes que salian del campo de visión mas temprano en la noches. Esto da un orden, primera HD198044, segunda HD222891 y tercera HD205403.\n",
    "\n",
    "Se sacaba el espectro de la candidata a binaria, se encendía la lámpara de calibración torio-argón y se sacaba la imágen. Luego, se saca buscaba la fuente, se centraba en la rendija y se tomaba el espectro correspondiente a la binaria. Por último, nuevamente, había que obtener el espectro de la lámpara de calibración.\n"
   ]
  },
  {
   "cell_type": "code",
   "execution_count": null,
   "metadata": {
    "collapsed": true
   },
   "outputs": [],
   "source": []
  }
 ],
 "metadata": {
  "anaconda-cloud": {},
  "kernelspec": {
   "display_name": "Python [Root]",
   "language": "python",
   "name": "Python [Root]"
  },
  "language_info": {
   "codemirror_mode": {
    "name": "ipython",
    "version": 3
   },
   "file_extension": ".py",
   "mimetype": "text/x-python",
   "name": "python",
   "nbconvert_exporter": "python",
   "pygments_lexer": "ipython3",
   "version": "3.5.2"
  }
 },
 "nbformat": 4,
 "nbformat_minor": 0
}
