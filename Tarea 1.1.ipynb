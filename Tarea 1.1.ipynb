{
 "cells": [
  {
   "cell_type": "markdown",
   "metadata": {},
   "source": [
    "  **1.- Propiedades de NGC 121**\n",
    "\n",
    "---\n",
    "\n",
    "NGC 121 es un cúmulo globular ubicado en constelación Tucana, también llamado ESO 050-SC012, y tiene coordenadas con coordenadas y la distancia métrica al cúmulo.\n",
    "\n",
    "Ascención recta: 00 h 26 min 58,2 s\n",
    "\n",
    "Declinación: -71° 32' 08\"\n",
    "\n",
    "Distancia métrica: 61$\\pm$3 kpc\n",
    "\n",
    "Aquí se presenta una tabla con los enrrojecimientos del cúmulo en distintas bandas:\n",
    "\n",
    "| Instrumento | Filtro | Longitud onda (µm) | $A_{λ}$ (mag) |\n",
    "|:-----------:|:------:|:------------------:|:-------------:|\n",
    "|   Landolt   |   U    |        0.35        |     0.160     |\n",
    "|   Landolt   |   B    |        0.43        |     0.134     |\n",
    "|   Landolt   |   V    |        0.54        |     0.101     |\n",
    "|   Landolt   |   R    |        0.64        |     0.080     |\n",
    "|   Landolt   |   I    |        0.80        |     0.056     |\n",
    "|     ACS     | F555W  |        0.54        |     0.103     |\n",
    "|     ACS     | F814W  |        0.80        |     0.056     |\n",
    "\n",
    "Fuentes:\n",
    "> *https://ned.ipac.caltech.edu/cgi-bin/objsearch?objname=ngc121&extend=no&hconst=73&omegam=0.27&omegav=0.73&corr_z=1&out_csys=Equatorial&out_equinox=J2000.0&obj_sort=RA+or+Longitude&of=pre_text&zv_breaker=30000.0&list_limit=5&img_stamp=YES#NR_Distances_0*\n",
    "\n",
    "> *https://www.nasa.gov/content/goddard/oldest-cluster/#.V6jqDNGVs8o*\n",
    "\n",
    "> *https://es.wikipedia.org/wiki/NGC_121*"
   ]
  },
  {
   "cell_type": "markdown",
   "metadata": {},
   "source": [
    "  **2.- Describiendo filtros y sistemas y extracción y grabado de las extensiones**\n",
    "\n",
    "---\n",
    "\n",
    "Las imágnes que se trabajaran en esta tarea se obtuvieron con ACS que es un instrumentos de tercera generacion que está instalado en el telescopio espacial Hubble y posee tres canales, Wide Field Camera (WFC), High-Resolution Camera (HRC) y Solar Blind Camera (SBC).\n",
    "\n",
    "HRC presenta la siguientes características:\n",
    "\n",
    "|   Características     |         Medidas          |\n",
    "|:---------------------:|:------------------------:|\n",
    "|    Campo de Vista     |   29.1x26.1 arcseconds   |\n",
    "|  Tamaño del Detector  |        1024x1024         |\n",
    "|   Longitud de Onda    |       200-1050 nm        |\n",
    "\n",
    "Los filtros utilizados se describen a continuación y el filtro mas parecido en el sistema Johnson:\n",
    "\n",
    "| Instrumento | Filtro | Longitud onda (µm) |\n",
    "|:-----------:|:------:|:------------------:|\n",
    "|   Johnson   |   V    |        0.55        |\n",
    "|   Johnson   |   I    |        0.81        |\n",
    "|     ACS     | F555W  |        0.54        |\n",
    "|     ACS     | F814W  |        0.80        |\n",
    "\n",
    "Los archivos presentan 5 extensiones:\n",
    "\n",
    "| Nro |  Nombre  |      Tipe       |           Descripción              |\n",
    "|:---:|:--------:|:---------------:|:----------------------------------:|\n",
    "|  0  |  PRIMARY |   PrimaryHDU    | Presenta el header de las imágenes |\n",
    "|  1  |   SCI    |    ImageHDU     |  Contiene la imágenes de ciencia   |\n",
    "|  2  |   WHT    |    ImageHDU     | Contiene el inverso de la varianza |\n",
    "|  3  |   CTX    |    ImageHDU     |                                    |\n",
    "|  4  |  HDRTAB  |   BinTableHDU   |                                    |\n",
    "\n",
    "Para extraer y grabar las extensiones que contienen las imágenes y los inversos de las varianzas se procede:"
   ]
  },
  {
   "cell_type": "code",
   "execution_count": null,
   "metadata": {
    "collapsed": true
   },
   "outputs": [],
   "source": [
    "from astropy.io import fits\n",
    "hdulist = fits.open('hst_10396_a4_acs_hrc_f555w_drz.fits')\n",
    "hdulist.info()\n",
    "fits.writeto(\"sci_{}\".format(\"f555w_NRI.fits\"), hdulist[1].data, hdulist[1].header, clobber=True)\n",
    "fits.writeto(\"invar_{}\".format(\"f555w_NRI.fits\"), hdulist[2].data, hdulist[2].header, clobber=True)\n",
    "hdulist.close()\n",
    "hdulist = fits.open('hst_10396_a4_acs_hrc_f814w_drz.fits')\n",
    "hdulist.info()\n",
    "fits.writeto(\"sci_{}\".format(\"f814w_NRI.fits\"), hdulist[1].data, hdulist[1].header, clobber=True)\n",
    "fits.writeto(\"invar_{}\".format(\"f814w_NRI.fits\"), hdulist[2].data, hdulist[2].header, clobber=True)\n",
    "hdulist.close()"
   ]
  },
  {
   "cell_type": "markdown",
   "metadata": {},
   "source": [
    "Fuentes:\n",
    "> *http://www.stsci.edu/hst/acs*\n",
    "\n",
    "> *https://www.spacetelescope.org/about/general/instruments/acs/*\n",
    "\n",
    "> *http://www.das.uchile.cl/~mhamuy/courses/AS750/tema19.html*"
   ]
  },
  {
   "cell_type": "markdown",
   "metadata": {},
   "source": [
    "  **3.- Detección de fuentes y medición de fotometría**\n",
    "\n",
    "---\n",
    "\n",
    "Para detectar la fuentes se determinan ciertos los parámetros en el archivo *default.sex*. Para darle pesos a las cuentas de los pixeles configuramos *WEIGHT_TYPE* en *MAP_WEIGH* y le damos la imágenes de los inverzos de las varianzas *invar_filtro_NRI.fits* a *WEIGHT_IMAGE*. De la literatura (fuente indicada más abajo) se obtiene que el *GAIN* y el *SEEING_FWHM* con valores de 2 y 0.065 respectivamente. *PIXEL_SCALE* se configura en 0 para que el programa lo lea directamente del header. Con DS9 se observan las imágenes y se determina que hay fuentes con 6 pixeles, por lo que se configura *DETECT_MINAREA* en.*PHOT_APERTURES* también se iguala a 6. Finalmente *MAG_ZEROPOINT* se determina en 25.\n",
    "\n",
    "Para el archivo de salida, se obtienen las cantidades que se descomentan en el archivo *default.param*. Dichas cantidades son *MAG_APER*, *MAGERR_APER*, *ALPHA_J2000* y *DELTA_J2000*.\n",
    "\n",
    "Se hace correr *SExtractor* con el comando *sextractor nombreimagen.fits -c default.sex* para detectar las fuentes.\n",
    "Se detectaron 5722 fuentes para el filtro f555w y 4735 fuentes para el filtro f814w.\n",
    "\n",
    "Fuente:\n",
    "> *http://www.stsci.edu/hst/acs/documents/handbooks/cycle19/c05_imaging7.html*"
   ]
  },
  {
   "cell_type": "markdown",
   "metadata": {},
   "source": [
    "  **4.- Detección de fuentes, medición de fotometría y creación de diagrama color magnitud**\n",
    "\n",
    "---\n",
    "\n",
    "Para hacer la unión de los catálogos hacemos:"
   ]
  },
  {
   "cell_type": "code",
   "execution_count": 6,
   "metadata": {
    "collapsed": true
   },
   "outputs": [],
   "source": [
    "from astropy.io import ascii\n",
    "from astropy.coordinates import SkyCoord\n",
    "from astropy import units as u\n",
    "import numpy as np\n",
    "\n",
    "catalogos = []\n",
    "coordenadas = []\n",
    "\n",
    "f555w = ascii.read('f555w_NRI.cat')\n",
    "catalogos.append(f555w)\n",
    "coordenadas.append(SkyCoord(ra=f555w['ALPHA_J2000'],dec=f555w['DELTA_J2000'],unit='deg'))\n",
    "\n",
    "f814w = ascii.read('f814w_NRI.cat')\n",
    "catalogos.append(f814w)\n",
    "coordenadas.append(SkyCoord(ra=f814w['ALPHA_J2000'],dec=f814w['DELTA_J2000'],unit='deg'))\n",
    "\n",
    "idx, sep2d, dist3d = SkyCoord.match_to_catalog_sky(coordenadas[0],coordenadas[1])\n",
    "union = list(zip(range(0, len(idx)), idx, sep2d))\n",
    "\n",
    "par1, par2, par3 = zip(*union)\n",
    "catalogos[0] = catalogos[0][list(par1)]\n",
    "catalogos[1] = catalogos[1][list(par2)]\n",
    "\n",
    "Lf555w = list(map(lambda x: -2.5*np.log10(x), catalogos[0]['MAG_APER']))\n",
    "Lf814w = list(map(lambda x: -2.5*np.log10(x), catalogos[1]['MAG_APER']))"
   ]
  },
  {
   "cell_type": "markdown",
   "metadata": {},
   "source": [
    "El sistema VEGAMAG define un punto cero de acuerdo a la distribución espectral de la estrella Vega de tipo A.\n",
    "\n",
    "Los elementos a considerar para corregir la magnitud son:\n",
    "\n",
    "El zero point instrumental es la magnitud de una fuente que produce 1 cuenta por segundo ($m_0$).\n",
    "\n",
    "La corrección de apertura es la corrección a la magnitud de una fuente que se le aplica debido a que tan angosta o ancha es la apertura de recoleccion de fotones ($CA$).\n",
    "\n",
    "El enrojecimiento es una medida de cuanto baja el flujo a cortas logitudes de onda (normalmente en el azul) con respecto a longitudes de onda mas largas (rojo) ($A_{λ}$).\n",
    "\n",
    "Las calibraciones de las magnitudes en el sistema $m_{λ} = -2.5\\log_{10}(F)+m_0-A_λ-CA$\n",
    "\n",
    "Los valores para las correcciones en cada filtro son las siguientes:\n",
    "\n",
    "f555w: $m_{0}$=25.26, CA=0.24, $A_{V}$=0.1\n",
    "\n",
    "f814w: $m_{0}$=24.85, CA=0.43, $A_{V}$=0.06\n",
    "\n",
    "Hacemos el diagrama color-magnitud con el siguiente código:"
   ]
  },
  {
   "cell_type": "code",
   "execution_count": 7,
   "metadata": {
    "collapsed": true
   },
   "outputs": [],
   "source": [
    "import matplotlib.pyplot as plt\n",
    "\n",
    "Lf555w = list(map(lambda x: x+25.255-0.241-0.103,Lf555w))\n",
    "Lf814w = list(map(lambda x: x+24.849-0.425-0.056,Lf814w))\n",
    "\n",
    "axis_x = list(map(lambda x: x[0]-x[1],zip(Lf555w,Lf814w)))\n",
    "axis_y = Lf555w\n",
    "\n",
    "plt.scatter(axis_x,axis_y,marker='o',c='Black',s=1)\n",
    "plt.xlabel('F555W - F814W')\n",
    "plt.ylabel('F555W')\n",
    "plt.gca().invert_xaxis()\n",
    "plt.tight_layout()\n",
    "plt.show()"
   ]
  },
  {
   "cell_type": "markdown",
   "metadata": {},
   "source": [
    "Fuente:\n",
    "> *http://www.stsci.edu/documents/dhb/web/c32_wfpc2dataanal.fm1.html*\n",
    "\n",
    "> *https://es.wikipedia.org/wiki/Enrojecimiento_interestelar*\n",
    "\n",
    "> *http://ned.ipac.caltech.edu/cgi-bin/objsearch?search_type=Obj_id&objid=3284737&objname=1&img_stamp=YES&hconst=73.0&omegam=0.27&omegav=0.73&corr_z=1*"
   ]
  },
  {
   "cell_type": "code",
   "execution_count": null,
   "metadata": {
    "collapsed": true
   },
   "outputs": [],
   "source": []
  }
 ],
 "metadata": {
  "anaconda-cloud": {},
  "kernelspec": {
   "display_name": "Python [Root]",
   "language": "python",
   "name": "Python [Root]"
  },
  "language_info": {
   "codemirror_mode": {
    "name": "ipython",
    "version": 3
   },
   "file_extension": ".py",
   "mimetype": "text/x-python",
   "name": "python",
   "nbconvert_exporter": "python",
   "pygments_lexer": "ipython3",
   "version": "3.5.2"
  }
 },
 "nbformat": 4,
 "nbformat_minor": 0
}
